{
 "cells": [
  {
   "cell_type": "markdown",
   "id": "a3ba97a1",
   "metadata": {},
   "source": [
    "# Title: Project ML:  Fraud Detection for Online Transactions"
   ]
  },
  {
   "cell_type": "markdown",
   "id": "b2eb4618",
   "metadata": {},
   "source": [
    "##### The project follow following steps \n",
    "1) Data Collection  \n",
    "2) Data Cleaning and Preprocessing  \n",
    "3) Visualize the Data  \n",
    "4) Split the Data  \n",
    "5) Label encoding  \n",
    "6) Model Training  \n",
    "7) Model Evaluation  \n",
    "8) Optimize the Model  \n",
    "9) Web Application Development  \n",
    "10) Deployment and Group Presentation"
   ]
  },
  {
   "cell_type": "markdown",
   "id": "6f5f8227",
   "metadata": {},
   "source": [
    "## 1) Data Collection"
   ]
  },
  {
   "cell_type": "markdown",
   "id": "960e9a3d",
   "metadata": {},
   "source": [
    "https://www.kaggle.com/competitions/ieee-fraud-detection/data"
   ]
  },
  {
   "cell_type": "markdown",
   "id": "f96eef79",
   "metadata": {},
   "source": [
    "## 2) Data Cleaning and Preprocessing"
   ]
  },
  {
   "cell_type": "markdown",
   "id": "b2d31188",
   "metadata": {},
   "source": [
    "## Step 1: Load required libraries and data"
   ]
  },
  {
   "cell_type": "code",
   "execution_count": 1,
   "id": "0c01ca27",
   "metadata": {},
   "outputs": [],
   "source": [
    "# Import dependencies\n",
    "from pathlib import Path\n",
    "import numpy as np\n",
    "import pandas as pd\n",
    "import matplotlib.pyplot as plt\n",
    "import seaborn as sns\n"
   ]
  },
  {
   "cell_type": "code",
   "execution_count": 2,
   "id": "15a353a6",
   "metadata": {},
   "outputs": [],
   "source": [
    "# Load the data\n",
    "file_path1 = Path(\"Resources/test_identity.csv\")\n",
    "file_path2 = Path(\"Resources/test_transaction.csv\")\n",
    "file_path3 = Path(\"Resources/train_identity.csv\")\n",
    "file_path4 = Path(\"Resources/train_transaction.csv\")"
   ]
  },
  {
   "cell_type": "code",
   "execution_count": 4,
   "id": "af766778",
   "metadata": {},
   "outputs": [],
   "source": [
    "# Read the data\n",
    "test_identity = pd.read_csv(file_path1)\n",
    "test_transaction = pd.read_csv(file_path2)\n",
    "train_identity = pd.read_csv(file_path3)\n",
    "train_transaction = pd.read_csv(file_path4)"
   ]
  },
  {
   "cell_type": "markdown",
   "id": "562ac4d8",
   "metadata": {},
   "source": [
    "### Note: \n",
    "\n",
    "**The dataset contains information about the identity and transactions made by the individuals in train and test set"
   ]
  },
  {
   "cell_type": "markdown",
   "id": "12a25294",
   "metadata": {},
   "source": [
    "# Step 2: Exploring the Data"
   ]
  },
  {
   "cell_type": "code",
   "execution_count": 5,
   "id": "6a419bf8",
   "metadata": {},
   "outputs": [
    {
     "name": "stdout",
     "output_type": "stream",
     "text": [
      "test_identity Shape:  (141907, 41)\n",
      "test_transaction Shape:  (506691, 393)\n",
      "train_identity Shape:  (144233, 41)\n",
      "train_transaction Shape:  (590540, 394)\n"
     ]
    }
   ],
   "source": [
    "# get shape of the data\n",
    "print(\"test_identity Shape: \", test_identity.shape)\n",
    "print(\"test_transaction Shape: \", test_transaction.shape)\n",
    "print(\"train_identity Shape: \", train_identity.shape)\n",
    "print(\"train_transaction Shape: \", train_transaction.shape)"
   ]
  },
  {
   "cell_type": "code",
   "execution_count": 6,
   "id": "0b4d0ec5",
   "metadata": {},
   "outputs": [
    {
     "name": "stdout",
     "output_type": "stream",
     "text": [
      "   TransactionID  id-01     id-02  id-03  id-04  id-05  id-06  id-07  id-08  \\\n",
      "0        3663586  -45.0  280290.0    NaN    NaN    0.0    0.0    NaN    NaN   \n",
      "1        3663588    0.0    3579.0    0.0    0.0    0.0    0.0    NaN    NaN   \n",
      "2        3663597   -5.0  185210.0    NaN    NaN    1.0    0.0    NaN    NaN   \n",
      "3        3663601  -45.0  252944.0    0.0    0.0    0.0    0.0    NaN    NaN   \n",
      "4        3663602  -95.0  328680.0    NaN    NaN    7.0  -33.0    NaN    NaN   \n",
      "\n",
      "   id-09  ...                    id-31  id-32     id-33           id-34  \\\n",
      "0    NaN  ...  chrome 67.0 for android    NaN       NaN             NaN   \n",
      "1    0.0  ...  chrome 67.0 for android   24.0  1280x720  match_status:2   \n",
      "2    NaN  ...       ie 11.0 for tablet    NaN       NaN             NaN   \n",
      "3    0.0  ...  chrome 67.0 for android    NaN       NaN             NaN   \n",
      "4    NaN  ...  chrome 67.0 for android    NaN       NaN             NaN   \n",
      "\n",
      "   id-35 id-36 id-37  id-38  DeviceType                   DeviceInfo  \n",
      "0      F     F     T      F      mobile  MYA-L13 Build/HUAWEIMYA-L13  \n",
      "1      T     F     T      T      mobile         LGLS676 Build/MXB48T  \n",
      "2      F     T     T      F     desktop                  Trident/7.0  \n",
      "3      F     F     T      F      mobile  MYA-L13 Build/HUAWEIMYA-L13  \n",
      "4      F     F     T      F      mobile         SM-G9650 Build/R16NW  \n",
      "\n",
      "[5 rows x 41 columns]\n",
      "   TransactionID  TransactionDT  TransactionAmt ProductCD  card1  card2  \\\n",
      "0        3663549       18403224           31.95         W  10409  111.0   \n",
      "1        3663550       18403263           49.00         W   4272  111.0   \n",
      "2        3663551       18403310          171.00         W   4476  574.0   \n",
      "3        3663552       18403310          284.95         W  10989  360.0   \n",
      "4        3663553       18403317           67.95         W  18018  452.0   \n",
      "\n",
      "   card3       card4  card5  card6  ...  V330  V331  V332  V333 V334 V335  \\\n",
      "0  150.0        visa  226.0  debit  ...   NaN   NaN   NaN   NaN  NaN  NaN   \n",
      "1  150.0        visa  226.0  debit  ...   NaN   NaN   NaN   NaN  NaN  NaN   \n",
      "2  150.0        visa  226.0  debit  ...   NaN   NaN   NaN   NaN  NaN  NaN   \n",
      "3  150.0        visa  166.0  debit  ...   NaN   NaN   NaN   NaN  NaN  NaN   \n",
      "4  150.0  mastercard  117.0  debit  ...   NaN   NaN   NaN   NaN  NaN  NaN   \n",
      "\n",
      "   V336  V337  V338  V339  \n",
      "0   NaN   NaN   NaN   NaN  \n",
      "1   NaN   NaN   NaN   NaN  \n",
      "2   NaN   NaN   NaN   NaN  \n",
      "3   NaN   NaN   NaN   NaN  \n",
      "4   NaN   NaN   NaN   NaN  \n",
      "\n",
      "[5 rows x 393 columns]\n",
      "   TransactionID  id_01     id_02  id_03  id_04  id_05  id_06  id_07  id_08  \\\n",
      "0        2987004    0.0   70787.0    NaN    NaN    NaN    NaN    NaN    NaN   \n",
      "1        2987008   -5.0   98945.0    NaN    NaN    0.0   -5.0    NaN    NaN   \n",
      "2        2987010   -5.0  191631.0    0.0    0.0    0.0    0.0    NaN    NaN   \n",
      "3        2987011   -5.0  221832.0    NaN    NaN    0.0   -6.0    NaN    NaN   \n",
      "4        2987016    0.0    7460.0    0.0    0.0    1.0    0.0    NaN    NaN   \n",
      "\n",
      "   id_09  ...                id_31  id_32      id_33           id_34  id_35  \\\n",
      "0    NaN  ...  samsung browser 6.2   32.0  2220x1080  match_status:2      T   \n",
      "1    NaN  ...   mobile safari 11.0   32.0   1334x750  match_status:1      T   \n",
      "2    0.0  ...          chrome 62.0    NaN        NaN             NaN      F   \n",
      "3    NaN  ...          chrome 62.0    NaN        NaN             NaN      F   \n",
      "4    0.0  ...          chrome 62.0   24.0   1280x800  match_status:2      T   \n",
      "\n",
      "  id_36 id_37  id_38  DeviceType                     DeviceInfo  \n",
      "0     F     T      T      mobile  SAMSUNG SM-G892A Build/NRD90M  \n",
      "1     F     F      T      mobile                     iOS Device  \n",
      "2     F     T      T     desktop                        Windows  \n",
      "3     F     T      T     desktop                            NaN  \n",
      "4     F     T      T     desktop                          MacOS  \n",
      "\n",
      "[5 rows x 41 columns]\n",
      "   TransactionID  isFraud  TransactionDT  TransactionAmt ProductCD  card1  \\\n",
      "0        2987000        0          86400            68.5         W  13926   \n",
      "1        2987001        0          86401            29.0         W   2755   \n",
      "\n",
      "   card2  card3       card4  card5  ... V330  V331  V332  V333  V334 V335  \\\n",
      "0    NaN  150.0    discover  142.0  ...  NaN   NaN   NaN   NaN   NaN  NaN   \n",
      "1  404.0  150.0  mastercard  102.0  ...  NaN   NaN   NaN   NaN   NaN  NaN   \n",
      "\n",
      "  V336  V337  V338  V339  \n",
      "0  NaN   NaN   NaN   NaN  \n",
      "1  NaN   NaN   NaN   NaN  \n",
      "\n",
      "[2 rows x 394 columns]\n"
     ]
    }
   ],
   "source": [
    "# print first five rows of each dataset\n",
    "print(test_identity.head())\n",
    "print(test_transaction.head())\n",
    "print(train_identity.head())\n",
    "print(train_transaction.head(2))\n"
   ]
  },
  {
   "cell_type": "code",
   "execution_count": 7,
   "id": "3228f4ad",
   "metadata": {},
   "outputs": [
    {
     "name": "stdout",
     "output_type": "stream",
     "text": [
      "<class 'pandas.core.frame.DataFrame'>\n",
      "RangeIndex: 141907 entries, 0 to 141906\n",
      "Data columns (total 41 columns):\n",
      " #   Column         Non-Null Count   Dtype  \n",
      "---  ------         --------------   -----  \n",
      " 0   TransactionID  141907 non-null  int64  \n",
      " 1   id-01          141907 non-null  float64\n",
      " 2   id-02          136976 non-null  float64\n",
      " 3   id-03          66481 non-null   float64\n",
      " 4   id-04          66481 non-null   float64\n",
      " 5   id-05          134750 non-null  float64\n",
      " 6   id-06          134750 non-null  float64\n",
      " 7   id-07          5059 non-null    float64\n",
      " 8   id-08          5059 non-null    float64\n",
      " 9   id-09          74338 non-null   float64\n",
      " 10  id-10          74338 non-null   float64\n",
      " 11  id-11          136778 non-null  float64\n",
      " 12  id-12          141907 non-null  object \n",
      " 13  id-13          130286 non-null  float64\n",
      " 14  id-14          71357 non-null   float64\n",
      " 15  id-15          136977 non-null  object \n",
      " 16  id-16          125747 non-null  object \n",
      " 17  id-17          135966 non-null  float64\n",
      " 18  id-18          50875 non-null   float64\n",
      " 19  id-19          135906 non-null  float64\n",
      " 20  id-20          135633 non-null  float64\n",
      " 21  id-21          5059 non-null    float64\n",
      " 22  id-22          5062 non-null    float64\n",
      " 23  id-23          5062 non-null    object \n",
      " 24  id-24          4740 non-null    float64\n",
      " 25  id-25          5039 non-null    float64\n",
      " 26  id-26          5047 non-null    float64\n",
      " 27  id-27          5062 non-null    object \n",
      " 28  id-28          136778 non-null  object \n",
      " 29  id-29          136778 non-null  object \n",
      " 30  id-30          70659 non-null   object \n",
      " 31  id-31          136625 non-null  object \n",
      " 32  id-32          70671 non-null   float64\n",
      " 33  id-33          70671 non-null   object \n",
      " 34  id-34          72175 non-null   object \n",
      " 35  id-35          136977 non-null  object \n",
      " 36  id-36          136977 non-null  object \n",
      " 37  id-37          136977 non-null  object \n",
      " 38  id-38          136977 non-null  object \n",
      " 39  DeviceType     136931 non-null  object \n",
      " 40  DeviceInfo     115057 non-null  object \n",
      "dtypes: float64(23), int64(1), object(17)\n",
      "memory usage: 44.4+ MB\n",
      "None\n",
      "<class 'pandas.core.frame.DataFrame'>\n",
      "RangeIndex: 506691 entries, 0 to 506690\n",
      "Columns: 393 entries, TransactionID to V339\n",
      "dtypes: float64(376), int64(3), object(14)\n",
      "memory usage: 1.5+ GB\n",
      "None\n",
      "<class 'pandas.core.frame.DataFrame'>\n",
      "RangeIndex: 144233 entries, 0 to 144232\n",
      "Data columns (total 41 columns):\n",
      " #   Column         Non-Null Count   Dtype  \n",
      "---  ------         --------------   -----  \n",
      " 0   TransactionID  144233 non-null  int64  \n",
      " 1   id_01          144233 non-null  float64\n",
      " 2   id_02          140872 non-null  float64\n",
      " 3   id_03          66324 non-null   float64\n",
      " 4   id_04          66324 non-null   float64\n",
      " 5   id_05          136865 non-null  float64\n",
      " 6   id_06          136865 non-null  float64\n",
      " 7   id_07          5155 non-null    float64\n",
      " 8   id_08          5155 non-null    float64\n",
      " 9   id_09          74926 non-null   float64\n",
      " 10  id_10          74926 non-null   float64\n",
      " 11  id_11          140978 non-null  float64\n",
      " 12  id_12          144233 non-null  object \n",
      " 13  id_13          127320 non-null  float64\n",
      " 14  id_14          80044 non-null   float64\n",
      " 15  id_15          140985 non-null  object \n",
      " 16  id_16          129340 non-null  object \n",
      " 17  id_17          139369 non-null  float64\n",
      " 18  id_18          45113 non-null   float64\n",
      " 19  id_19          139318 non-null  float64\n",
      " 20  id_20          139261 non-null  float64\n",
      " 21  id_21          5159 non-null    float64\n",
      " 22  id_22          5169 non-null    float64\n",
      " 23  id_23          5169 non-null    object \n",
      " 24  id_24          4747 non-null    float64\n",
      " 25  id_25          5132 non-null    float64\n",
      " 26  id_26          5163 non-null    float64\n",
      " 27  id_27          5169 non-null    object \n",
      " 28  id_28          140978 non-null  object \n",
      " 29  id_29          140978 non-null  object \n",
      " 30  id_30          77565 non-null   object \n",
      " 31  id_31          140282 non-null  object \n",
      " 32  id_32          77586 non-null   float64\n",
      " 33  id_33          73289 non-null   object \n",
      " 34  id_34          77805 non-null   object \n",
      " 35  id_35          140985 non-null  object \n",
      " 36  id_36          140985 non-null  object \n",
      " 37  id_37          140985 non-null  object \n",
      " 38  id_38          140985 non-null  object \n",
      " 39  DeviceType     140810 non-null  object \n",
      " 40  DeviceInfo     118666 non-null  object \n",
      "dtypes: float64(23), int64(1), object(17)\n",
      "memory usage: 45.1+ MB\n",
      "None\n",
      "<class 'pandas.core.frame.DataFrame'>\n",
      "RangeIndex: 590540 entries, 0 to 590539\n",
      "Columns: 394 entries, TransactionID to V339\n",
      "dtypes: float64(376), int64(4), object(14)\n",
      "memory usage: 1.7+ GB\n",
      "None\n"
     ]
    }
   ],
   "source": [
    "# get information about the data\n",
    "print(test_identity.info())\n",
    "print(test_transaction.info())\n",
    "print(train_identity.info())\n",
    "print(train_transaction.info())"
   ]
  },
  {
   "cell_type": "markdown",
   "id": "d1263d4f",
   "metadata": {},
   "source": [
    "### Note:  \n",
    "\n",
    "**The train and test datasets have a column `TransactionID`, which can be used as the unique identifier for each transaction.\n",
    "\n",
    "**The transaction files contain information such as transaction amount, time, and card information, while the identity files contain information such as device type, device info, and several ID columns.**\n",
    "\n",
    "**The train dataset has a target column called `isFraud`.**"
   ]
  },
  {
   "cell_type": "code",
   "execution_count": 9,
   "id": "0edebc05",
   "metadata": {},
   "outputs": [
    {
     "name": "stdout",
     "output_type": "stream",
     "text": [
      "       TransactionID          id-01          id-02         id-03  \\\n",
      "count   1.419070e+05  141907.000000  136976.000000  66481.000000   \n",
      "mean    3.972166e+06     -11.325734  192658.729909      0.053008   \n",
      "std     1.469966e+05      14.508520  182613.277215      0.684551   \n",
      "min     3.663586e+06    -100.000000       2.000000    -12.000000   \n",
      "25%     3.859268e+06     -12.500000   63339.500000      0.000000   \n",
      "50%     4.001774e+06      -5.000000  133189.500000      0.000000   \n",
      "75%     4.105284e+06      -5.000000  265717.500000      0.000000   \n",
      "max     4.170239e+06       0.000000  999869.000000     11.000000   \n",
      "\n",
      "              id-04          id-05          id-06        id-07        id-08  \\\n",
      "count  66481.000000  134750.000000  134750.000000  5059.000000  5059.000000   \n",
      "mean      -0.087454       1.246033      -6.803829    12.493180   -36.577782   \n",
      "std        0.840351       5.071394      15.921457    11.678206    25.544185   \n",
      "min      -19.000000     -81.000000    -100.000000   -41.000000  -100.000000   \n",
      "25%        0.000000       0.000000      -6.000000     3.000000   -46.000000   \n",
      "50%        0.000000       0.000000       0.000000    12.000000   -33.000000   \n",
      "75%        0.000000       1.000000       0.000000    21.000000   -23.000000   \n",
      "max        0.000000      52.000000       0.000000    59.000000     0.000000   \n",
      "\n",
      "              id-09  ...          id-17         id-18          id-19  \\\n",
      "count  74338.000000  ...  135966.000000  50875.000000  135906.000000   \n",
      "mean       0.076219  ...     191.070341     14.795735     350.122982   \n",
      "std        1.009687  ...      30.749535      2.318496     139.140824   \n",
      "min      -32.000000  ...     100.000000     11.000000     100.000000   \n",
      "25%        0.000000  ...     166.000000     13.000000     266.000000   \n",
      "50%        0.000000  ...     166.000000     15.000000     321.000000   \n",
      "75%        0.000000  ...     225.000000     15.000000     427.000000   \n",
      "max       16.000000  ...     228.000000     29.000000     670.000000   \n",
      "\n",
      "               id-20        id-21        id-22        id-24        id-25  \\\n",
      "count  135633.000000  5059.000000  5062.000000  4740.000000  5039.000000   \n",
      "mean      408.886230   507.727021    15.336823    13.166667   332.043064   \n",
      "std       158.971756   227.371061     5.618032     3.222440    86.356683   \n",
      "min       100.000000   100.000000    11.000000    10.000000   100.000000   \n",
      "25%       256.000000   252.000000    14.000000    11.000000   321.000000   \n",
      "50%       484.000000   576.000000    14.000000    11.000000   321.000000   \n",
      "75%       549.000000   711.000000    14.000000    15.000000   355.000000   \n",
      "max       660.000000   854.000000    44.000000    26.000000   549.000000   \n",
      "\n",
      "             id-26         id-32  \n",
      "count  5047.000000  70671.000000  \n",
      "mean    152.752923     26.217939  \n",
      "std      31.916995      3.601046  \n",
      "min     100.000000      8.000000  \n",
      "25%     137.000000     24.000000  \n",
      "50%     147.000000     24.000000  \n",
      "75%     182.000000     32.000000  \n",
      "max     216.000000     48.000000  \n",
      "\n",
      "[8 rows x 24 columns]\n",
      "       TransactionID  TransactionDT  TransactionAmt          card1  \\\n",
      "count   5.066910e+05   5.066910e+05   506691.000000  506691.000000   \n",
      "mean    3.916894e+06   2.692994e+07      134.725568    9957.222175   \n",
      "std     1.462692e+05   4.756507e+06      245.779822    4884.960969   \n",
      "min     3.663549e+06   1.840322e+07        0.018000    1001.000000   \n",
      "25%     3.790222e+06   2.277154e+07       40.000000    6019.000000   \n",
      "50%     3.916894e+06   2.720466e+07       67.950000    9803.000000   \n",
      "75%     4.043566e+06   3.134856e+07      125.000000   14276.000000   \n",
      "max     4.170239e+06   3.421434e+07    10270.000000   18397.000000   \n",
      "\n",
      "               card2          card3          card5          addr1  \\\n",
      "count  498037.000000  503689.000000  502144.000000  441082.000000   \n",
      "mean      363.735379     153.543409     200.162975     291.846514   \n",
      "std       158.688653      12.443013      40.562461     102.062730   \n",
      "min       100.000000     100.000000     100.000000     100.000000   \n",
      "25%       207.000000     150.000000     166.000000     204.000000   \n",
      "50%       369.000000     150.000000     226.000000     299.000000   \n",
      "75%       512.000000     150.000000     226.000000     330.000000   \n",
      "max       600.000000     232.000000     237.000000     540.000000   \n",
      "\n",
      "               addr2          dist1  ...          V330          V331  \\\n",
      "count  441082.000000  215474.000000  ...  76431.000000  7.643100e+04   \n",
      "mean       86.723412      87.065270  ...      0.309900  3.151286e+02   \n",
      "std         2.987328     314.131694  ...      2.632181  9.494045e+03   \n",
      "min        10.000000       0.000000  ...      0.000000  0.000000e+00   \n",
      "25%        87.000000       3.000000  ...      0.000000  0.000000e+00   \n",
      "50%        87.000000       8.000000  ...      0.000000  0.000000e+00   \n",
      "75%        87.000000      20.000000  ...      0.000000  0.000000e+00   \n",
      "max       102.000000    8081.000000  ...    106.000000  1.040658e+06   \n",
      "\n",
      "               V332          V333          V334          V335          V336  \\\n",
      "count  7.643100e+04  7.643100e+04  76431.000000  76431.000000  76431.000000   \n",
      "mean   4.404643e+02  3.811021e+02     24.708030     58.339468     35.485643   \n",
      "std    1.064843e+04  1.039556e+04    842.913287    990.361078    904.093921   \n",
      "min    0.000000e+00  0.000000e+00      0.000000      0.000000      0.000000   \n",
      "25%    0.000000e+00  0.000000e+00      0.000000      0.000000      0.000000   \n",
      "50%    0.000000e+00  0.000000e+00      0.000000      0.000000      0.000000   \n",
      "75%    0.000000e+00  0.000000e+00      0.000000      0.000000      0.000000   \n",
      "max    1.040658e+06  1.040658e+06  64800.000000  64800.000000  64800.000000   \n",
      "\n",
      "                V337           V338           V339  \n",
      "count   76431.000000   76431.000000   76431.000000  \n",
      "mean       99.058760     155.578153     139.814706  \n",
      "std      2436.074522    4544.303974    4493.728267  \n",
      "min         0.000000       0.000000       0.000000  \n",
      "25%         0.000000       0.000000       0.000000  \n",
      "50%         0.000000       0.000000       0.000000  \n",
      "75%         0.000000       0.000000       0.000000  \n",
      "max    375000.000000  612500.000000  612500.000000  \n",
      "\n",
      "[8 rows x 379 columns]\n",
      "       TransactionID          id_01          id_02         id_03  \\\n",
      "count   1.442330e+05  144233.000000  140872.000000  66324.000000   \n",
      "mean    3.236329e+06     -10.170502  174716.584708      0.060189   \n",
      "std     1.788496e+05      14.347949  159651.816856      0.598231   \n",
      "min     2.987004e+06    -100.000000       1.000000    -13.000000   \n",
      "25%     3.077142e+06     -10.000000   67992.000000      0.000000   \n",
      "50%     3.198818e+06      -5.000000  125800.500000      0.000000   \n",
      "75%     3.392923e+06      -5.000000  228749.000000      0.000000   \n",
      "max     3.577534e+06       0.000000  999595.000000     10.000000   \n",
      "\n",
      "              id_04          id_05          id_06        id_07        id_08  \\\n",
      "count  66324.000000  136865.000000  136865.000000  5155.000000  5155.000000   \n",
      "mean      -0.058938       1.615585      -6.698710    13.285354   -38.600388   \n",
      "std        0.701015       5.249856      16.491104    11.384207    26.084899   \n",
      "min      -28.000000     -72.000000    -100.000000   -46.000000  -100.000000   \n",
      "25%        0.000000       0.000000      -6.000000     5.000000   -48.000000   \n",
      "50%        0.000000       0.000000       0.000000    14.000000   -34.000000   \n",
      "75%        0.000000       1.000000       0.000000    22.000000   -23.000000   \n",
      "max        0.000000      52.000000       0.000000    61.000000     0.000000   \n",
      "\n",
      "              id_09  ...          id_17         id_18          id_19  \\\n",
      "count  74926.000000  ...  139369.000000  45113.000000  139318.000000   \n",
      "mean       0.091023  ...     189.451377     14.237337     353.128174   \n",
      "std        0.983842  ...      30.375360      1.561302     141.095343   \n",
      "min      -36.000000  ...     100.000000     10.000000     100.000000   \n",
      "25%        0.000000  ...     166.000000     13.000000     266.000000   \n",
      "50%        0.000000  ...     166.000000     15.000000     341.000000   \n",
      "75%        0.000000  ...     225.000000     15.000000     427.000000   \n",
      "max       25.000000  ...     229.000000     29.000000     671.000000   \n",
      "\n",
      "               id_20        id_21        id_22        id_24        id_25  \\\n",
      "count  139261.000000  5159.000000  5169.000000  4747.000000  5132.000000   \n",
      "mean      403.882666   368.269820    16.002708    12.800927   329.608924   \n",
      "std       152.160327   198.847038     6.897665     2.372447    97.461089   \n",
      "min       100.000000   100.000000    10.000000    11.000000   100.000000   \n",
      "25%       256.000000   252.000000    14.000000    11.000000   321.000000   \n",
      "50%       472.000000   252.000000    14.000000    11.000000   321.000000   \n",
      "75%       533.000000   486.500000    14.000000    15.000000   371.000000   \n",
      "max       661.000000   854.000000    44.000000    26.000000   548.000000   \n",
      "\n",
      "             id_26         id_32  \n",
      "count  5163.000000  77586.000000  \n",
      "mean    149.070308     26.508597  \n",
      "std      32.101995      3.737502  \n",
      "min     100.000000      0.000000  \n",
      "25%     119.000000     24.000000  \n",
      "50%     149.000000     24.000000  \n",
      "75%     169.000000     32.000000  \n",
      "max     216.000000     32.000000  \n",
      "\n",
      "[8 rows x 24 columns]\n"
     ]
    },
    {
     "name": "stdout",
     "output_type": "stream",
     "text": [
      "       TransactionID        isFraud  TransactionDT  TransactionAmt  \\\n",
      "count   5.905400e+05  590540.000000   5.905400e+05   590540.000000   \n",
      "mean    3.282270e+06       0.034990   7.372311e+06      135.027176   \n",
      "std     1.704744e+05       0.183755   4.617224e+06      239.162522   \n",
      "min     2.987000e+06       0.000000   8.640000e+04        0.251000   \n",
      "25%     3.134635e+06       0.000000   3.027058e+06       43.321000   \n",
      "50%     3.282270e+06       0.000000   7.306528e+06       68.769000   \n",
      "75%     3.429904e+06       0.000000   1.124662e+07      125.000000   \n",
      "max     3.577539e+06       1.000000   1.581113e+07    31937.391000   \n",
      "\n",
      "               card1          card2          card3          card5  \\\n",
      "count  590540.000000  581607.000000  588975.000000  586281.000000   \n",
      "mean     9898.734658     362.555488     153.194925     199.278897   \n",
      "std      4901.170153     157.793246      11.336444      41.244453   \n",
      "min      1000.000000     100.000000     100.000000     100.000000   \n",
      "25%      6019.000000     214.000000     150.000000     166.000000   \n",
      "50%      9678.000000     361.000000     150.000000     226.000000   \n",
      "75%     14184.000000     512.000000     150.000000     226.000000   \n",
      "max     18396.000000     600.000000     231.000000     237.000000   \n",
      "\n",
      "               addr1          addr2  ...          V330           V331  \\\n",
      "count  524834.000000  524834.000000  ...  82351.000000   82351.000000   \n",
      "mean      290.733794      86.800630  ...      0.775874     721.741883   \n",
      "std       101.741072       2.690623  ...      4.727971    6217.223583   \n",
      "min       100.000000      10.000000  ...      0.000000       0.000000   \n",
      "25%       204.000000      87.000000  ...      0.000000       0.000000   \n",
      "50%       299.000000      87.000000  ...      0.000000       0.000000   \n",
      "75%       330.000000      87.000000  ...      0.000000       0.000000   \n",
      "max       540.000000     102.000000  ...     55.000000  160000.000000   \n",
      "\n",
      "                V332           V333          V334         V335          V336  \\\n",
      "count   82351.000000   82351.000000  82351.000000  82351.00000  82351.000000   \n",
      "mean     1375.783644    1014.622782      9.807015     59.16455     28.530903   \n",
      "std     11169.275702    7955.735482    243.861391    387.62948    274.576920   \n",
      "min         0.000000       0.000000      0.000000      0.00000      0.000000   \n",
      "25%         0.000000       0.000000      0.000000      0.00000      0.000000   \n",
      "50%         0.000000       0.000000      0.000000      0.00000      0.000000   \n",
      "75%        25.000000       0.000000      0.000000      0.00000      0.000000   \n",
      "max    160000.000000  160000.000000  55125.000000  55125.00000  55125.000000   \n",
      "\n",
      "                V337           V338           V339  \n",
      "count   82351.000000   82351.000000   82351.000000  \n",
      "mean       55.352422     151.160542     100.700882  \n",
      "std       668.486833    1095.034387     814.946722  \n",
      "min         0.000000       0.000000       0.000000  \n",
      "25%         0.000000       0.000000       0.000000  \n",
      "50%         0.000000       0.000000       0.000000  \n",
      "75%         0.000000       0.000000       0.000000  \n",
      "max    104060.000000  104060.000000  104060.000000  \n",
      "\n",
      "[8 rows x 380 columns]\n"
     ]
    }
   ],
   "source": [
    "# get descriptive statistics for each dataset\n",
    "print(test_identity.describe())\n",
    "print(test_transaction.describe())\n",
    "print(train_identity.describe())\n",
    "print(train_transaction.describe())"
   ]
  },
  {
   "cell_type": "markdown",
   "id": "365b49ea",
   "metadata": {},
   "source": [
    "## Step 3:  Duplicate  Values:"
   ]
  },
  {
   "cell_type": "code",
   "execution_count": 10,
   "id": "c69e841e",
   "metadata": {},
   "outputs": [
    {
     "data": {
      "text/plain": [
       "0"
      ]
     },
     "execution_count": 10,
     "metadata": {},
     "output_type": "execute_result"
    }
   ],
   "source": [
    "# Check for Duplicate Values:\n",
    "test_identity.duplicated().sum()\n",
    "test_transaction.duplicated().sum()\n",
    "train_identity.duplicated().sum()\n",
    "train_transaction.duplicated().sum()"
   ]
  },
  {
   "cell_type": "markdown",
   "id": "d3809170",
   "metadata": {},
   "source": [
    "## Step 4:Merge data"
   ]
  },
  {
   "cell_type": "code",
   "execution_count": 11,
   "id": "fc9e117e",
   "metadata": {},
   "outputs": [],
   "source": [
    "# Merge identity and transaction datasets\n",
    "train = train_transaction.merge(train_identity, on=\"TransactionID\", how=\"left\")\n",
    "test = test_transaction.merge(test_identity, on=\"TransactionID\", how=\"left\")\n"
   ]
  },
  {
   "cell_type": "code",
   "execution_count": 12,
   "id": "5937ed96",
   "metadata": {},
   "outputs": [
    {
     "name": "stdout",
     "output_type": "stream",
     "text": [
      "train_data Shape:  (590540, 434)\n",
      "test_data Shape:  (506691, 433)\n"
     ]
    }
   ],
   "source": [
    "# Check the shape of the merged data\n",
    "print(\"train_data Shape: \", train.shape)\n",
    "print(\"test_data Shape: \", test.shape)"
   ]
  },
  {
   "cell_type": "code",
   "execution_count": 13,
   "id": "9a23e299",
   "metadata": {},
   "outputs": [],
   "source": [
    "# Check for missing values in train and test data\n",
    "missing_train = train.isnull().sum().sort_values(ascending=False)\n",
    "missing_test = test.isnull().sum().sort_values(ascending=False)"
   ]
  },
  {
   "cell_type": "code",
   "execution_count": 14,
   "id": "e5750277",
   "metadata": {},
   "outputs": [
    {
     "name": "stdout",
     "output_type": "stream",
     "text": [
      "Missing values in train (%):\n",
      "id_24            99.196159\n",
      "id_25            99.130965\n",
      "id_07            99.127070\n",
      "id_08            99.127070\n",
      "id_21            99.126393\n",
      "                   ...    \n",
      "C3                0.000000\n",
      "C2                0.000000\n",
      "C1                0.000000\n",
      "isFraud           0.000000\n",
      "TransactionID     0.000000\n",
      "Length: 434, dtype: float64\n",
      "\n",
      "Missing values in test_data (%):\n",
      "id-24            99.064519\n",
      "id-25            99.005508\n",
      "id-26            99.003929\n",
      "id-21            99.001561\n",
      "id-08            99.001561\n",
      "                   ...    \n",
      "V113              0.000000\n",
      "V114              0.000000\n",
      "V115              0.000000\n",
      "V116              0.000000\n",
      "TransactionID     0.000000\n",
      "Length: 433, dtype: float64\n"
     ]
    }
   ],
   "source": [
    "# Display the percentage of missing values in each column\n",
    "print(\"Missing values in train (%):\")\n",
    "print((missing_train / len(train)) * 100)\n",
    "print(\"\\nMissing values in test_data (%):\")\n",
    "print((missing_test / len(test)) * 100)"
   ]
  },
  {
   "cell_type": "markdown",
   "id": "56adaf70",
   "metadata": {},
   "source": [
    "### Note:\n",
    "**drop columns with a missing value percentage greater than a certain threshold (let's say 50%)"
   ]
  },
  {
   "cell_type": "markdown",
   "id": "d69dac31",
   "metadata": {},
   "source": [
    "### Step 5: Handle Missing Values"
   ]
  },
  {
   "cell_type": "code",
   "execution_count": 15,
   "id": "69bdca1f",
   "metadata": {},
   "outputs": [],
   "source": [
    "# Drop columns with more than 50% missing values\n",
    "train_data = train.drop(columns=missing_train[missing_train > 0.5 * len(train)].index)\n",
    "test_data = test.drop(columns=missing_test[missing_test > 0.5 * len(test)].index)"
   ]
  },
  {
   "cell_type": "code",
   "execution_count": 16,
   "id": "275a2789",
   "metadata": {},
   "outputs": [
    {
     "name": "stderr",
     "output_type": "stream",
     "text": [
      "C:\\Users\\victo\\AppData\\Local\\Temp\\ipykernel_11508\\3600396944.py:2: FutureWarning: Dropping of nuisance columns in DataFrame reductions (with 'numeric_only=None') is deprecated; in a future version this will raise TypeError.  Select only valid columns before calling the reduction.\n",
      "  train_data.fillna(train_data.mean(), inplace=True)\n",
      "C:\\Users\\victo\\AppData\\Local\\Temp\\ipykernel_11508\\3600396944.py:3: FutureWarning: Dropping of nuisance columns in DataFrame reductions (with 'numeric_only=None') is deprecated; in a future version this will raise TypeError.  Select only valid columns before calling the reduction.\n",
      "  test_data.fillna(test_data.mean(), inplace=True)\n"
     ]
    }
   ],
   "source": [
    "# Impute missing values in the remaining columns with their respective means\n",
    "train_data.fillna(train_data.mean(), inplace=True)\n",
    "test_data.fillna(test_data.mean(), inplace=True)"
   ]
  },
  {
   "cell_type": "markdown",
   "id": "56e14a33",
   "metadata": {},
   "source": [
    "### Step 6:Save cleaned data to new CSV files"
   ]
  },
  {
   "cell_type": "code",
   "execution_count": 18,
   "id": "282f3e77",
   "metadata": {},
   "outputs": [],
   "source": [
    "# Save cleaned data to new CSV files\n",
    "train_data.to_csv(\"Resources/clean_train_data.csv\", index=False)\n",
    "test_data.to_csv(\"Resources/clean_test_data.csv\", index=False)"
   ]
  },
  {
   "cell_type": "markdown",
   "id": "da6c9cf4",
   "metadata": {},
   "source": [
    "### Step 7:check data types"
   ]
  },
  {
   "cell_type": "code",
   "execution_count": 19,
   "id": "bbaeb0e3",
   "metadata": {},
   "outputs": [
    {
     "name": "stdout",
     "output_type": "stream",
     "text": [
      "TransactionID       int64\n",
      "isFraud             int64\n",
      "TransactionDT       int64\n",
      "TransactionAmt    float64\n",
      "ProductCD          object\n",
      "                   ...   \n",
      "V317              float64\n",
      "V318              float64\n",
      "V319              float64\n",
      "V320              float64\n",
      "V321              float64\n",
      "Length: 220, dtype: object\n"
     ]
    }
   ],
   "source": [
    "# check data types for train data\n",
    "print(train_data.dtypes)"
   ]
  },
  {
   "cell_type": "code",
   "execution_count": 20,
   "id": "635108b6",
   "metadata": {},
   "outputs": [
    {
     "name": "stdout",
     "output_type": "stream",
     "text": [
      "TransactionID       int64\n",
      "TransactionDT       int64\n",
      "TransactionAmt    float64\n",
      "ProductCD          object\n",
      "card1               int64\n",
      "                   ...   \n",
      "V317              float64\n",
      "V318              float64\n",
      "V319              float64\n",
      "V320              float64\n",
      "V321              float64\n",
      "Length: 223, dtype: object\n"
     ]
    }
   ],
   "source": [
    "# check data types for test data\n",
    "print(test_data.dtypes)"
   ]
  },
  {
   "cell_type": "markdown",
   "id": "4fbf4326",
   "metadata": {},
   "source": [
    "## 3) Visualize the Data relationship between  features"
   ]
  },
  {
   "cell_type": "markdown",
   "id": "9b19274d",
   "metadata": {},
   "source": [
    " ### Note:\n",
    "**visualize the distribution of the target variable, isFraud, in the train_transaction dataset."
   ]
  },
  {
   "cell_type": "code",
   "execution_count": 21,
   "id": "b8f6fe95",
   "metadata": {},
   "outputs": [
    {
     "data": {
      "image/png": "[encoded data removed]",
      "text/plain": [
       "<Figure size 432x288 with 1 Axes>"
      ]
     },
     "metadata": {
      "needs_background": "light"
     },
     "output_type": "display_data"
    }
   ],
   "source": [
    "import pandas as pd\n",
    "import numpy as np\n",
    "import seaborn as sns\n",
    "import matplotlib.pyplot as plt\n",
    "# Distribution of the target variable 'isFraud'\n",
    "sns.countplot(x='isFraud', data=train_transaction)\n",
    "plt.title('Distribution of Fraud Transactions')\n",
    "plt.show()"
   ]
  },
  {
   "cell_type": "markdown",
   "id": "54592434",
   "metadata": {},
   "source": [
    "### Note:\n",
    "**visualize the distribution of the TransactionAmt variable for both fraud and non-fraud transactions:"
   ]
  },
  {
   "cell_type": "code",
   "execution_count": 22,
   "id": "af30dbd6",
   "metadata": {},
   "outputs": [
    {
     "data": {
      "image/png": "[encoded data removed]",
      "text/plain": [
       "<Figure size 720x360 with 1 Axes>"
      ]
     },
     "metadata": {
      "needs_background": "light"
     },
     "output_type": "display_data"
    }
   ],
   "source": [
    "# Distribution of transaction amounts for fraud and non-fraud transactions\n",
    "plt.figure(figsize=(10, 5))\n",
    "sns.histplot(train_transaction[train_transaction['isFraud'] == 0]['TransactionAmt'], kde=False, bins=50, color='blue', label='Non-fraud')\n",
    "sns.histplot(train_transaction[train_transaction['isFraud'] == 1]['TransactionAmt'], kde=False, bins=50, color='red', label='Fraud')\n",
    "plt.legend()\n",
    "plt.title('Transaction Amount Distribution for Fraud and Non-Fraud Transactions')\n",
    "plt.xlabel('Transaction Amount')\n",
    "plt.ylabel('Frequency')\n",
    "plt.show()"
   ]
  },
  {
   "cell_type": "markdown",
   "id": "74c3ad71",
   "metadata": {},
   "source": [
    "### Note:\n",
    "**heatmap to visualize the correlation between some of the numerical features in the train_transaction dataset:"
   ]
  },
  {
   "cell_type": "code",
   "execution_count": 23,
   "id": "4e9f69ce",
   "metadata": {},
   "outputs": [
    {
     "data": {
      "image/png": "[encoded data removed]",
      "text/plain": [
       "<Figure size 720x576 with 2 Axes>"
      ]
     },
     "metadata": {
      "needs_background": "light"
     },
     "output_type": "display_data"
    }
   ],
   "source": [
    "# Select a subset of numerical features for the correlation heatmap\n",
    "numerical_features = ['TransactionAmt', 'card1', 'card2', 'card3', 'card5', 'addr1', 'addr2', 'dist1', 'dist2']\n",
    "\n",
    "# Calculate the correlation matrix\n",
    "corr_matrix = train_transaction[numerical_features].corr()\n",
    "\n",
    "# Plot the correlation heatmap\n",
    "plt.figure(figsize=(10, 8))\n",
    "sns.heatmap(corr_matrix, annot=True, cmap='coolwarm')\n",
    "plt.title('Correlation Heatmap of Numerical Features')\n",
    "plt.show()"
   ]
  },
  {
   "cell_type": "markdown",
   "id": "44db223c",
   "metadata": {},
   "source": []
  },
  {
   "cell_type": "markdown",
   "id": "6ae56407",
   "metadata": {},
   "source": [
    "# 4) Split the Data  "
   ]
  },
  {
   "cell_type": "code",
   "execution_count": null,
   "id": "58df8e30",
   "metadata": {},
   "outputs": [],
   "source": [
    "# Load cleaned data\n",
    "clean_train_data = pd.read_csv(\"Resources/clean_train_data.csv\")\n",
    "clean_test_data = pd.read_csv(\"Resources/clean_test_data.csv\")\n"
   ]
  },
  {
   "cell_type": "code",
   "execution_count": null,
   "id": "1e980192",
   "metadata": {},
   "outputs": [],
   "source": [
    "# Separate features and target in the train data\n",
    "X = clean_train_data.drop(columns=['isFraud', 'TransactionID'])\n",
    "y = clean_train_data['isFraud']\n"
   ]
  },
  {
   "cell_type": "markdown",
   "id": "d24321ee",
   "metadata": {},
   "source": [
    "## 5) Label encoding "
   ]
  },
  {
   "cell_type": "markdown",
   "id": "cfa2a6bd",
   "metadata": {},
   "source": [
    "##  6) Model Training  by using RandomForestClassifier"
   ]
  },
  {
   "cell_type": "markdown",
   "id": "87d8104c",
   "metadata": {},
   "source": [
    "## 7) Model Evaluation"
   ]
  },
  {
   "cell_type": "markdown",
   "id": "2ec75f81",
   "metadata": {},
   "source": [
    "## 8)   Model Optimization"
   ]
  },
  {
   "cell_type": "markdown",
   "id": "7697ef3b",
   "metadata": {},
   "source": [
    "## 9) Final Model Evaluation"
   ]
  },
  {
   "cell_type": "code",
   "execution_count": null,
   "id": "6807f30e",
   "metadata": {},
   "outputs": [],
   "source": []
  }
 ],
 "metadata": {
  "kernelspec": {
   "display_name": "Python 3 (ipykernel)",
   "language": "python",
   "name": "python3"
  },
  "language_info": {
   "codemirror_mode": {
    "name": "ipython",
    "version": 3
   },
   "file_extension": ".py",
   "mimetype": "text/x-python",
   "name": "python",
   "nbconvert_exporter": "python",
   "pygments_lexer": "ipython3",
   "version": "3.9.12"
  }
 },
 "nbformat": 4,
 "nbformat_minor": 5
}
