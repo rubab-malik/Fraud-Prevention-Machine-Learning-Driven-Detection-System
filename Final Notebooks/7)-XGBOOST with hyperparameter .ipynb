{
 "cells": [
  {
   "cell_type": "code",
   "execution_count": 2,
   "id": "372eaa11",
   "metadata": {},
   "outputs": [],
   "source": [
    "\n",
    "\n",
    "# Import dependencies\n",
    "from pathlib import Path\n",
    "import numpy as np\n",
    "import pandas as pd\n",
    "import matplotlib.pyplot as plt\n",
    "import seaborn as sns\n",
    "\n",
    "# from sklearn.model_selection import train_test_split, GridSearchCV\n",
    "# from sklearn.preprocessing import StandardScaler, OneHotEncoder\n",
    "# from sklearn.impute import SimpleImputer\n",
    "# from sklearn.compose import ColumnTransformer\n",
    "# from sklearn.pipeline import Pipeline\n",
    "# from sklearn.linear_model import LogisticRegression\n",
    "# from sklearn.ensemble import RandomForestClassifier\n",
    "# from sklearn.metrics import accuracy_score, precision_score, recall_score, f1_score, roc_auc_score, confusion_matrix\n",
    "# from sklearn.preprocessing import LabelEncoder\n"
   ]
  },
  {
   "cell_type": "code",
   "execution_count": 3,
   "id": "a81f8e75",
   "metadata": {},
   "outputs": [],
   "source": [
    "import sqlite3\n",
    "import pandas as pd\n",
    "\n",
    "# Create a connection to the database\n",
    "conn = sqlite3.connect(\"fraud_detection.db\")\n",
    "\n",
    "# Read the data from the database\n",
    "X_train = pd.read_sql_query(\"SELECT * FROM X_train\", conn)\n",
    "y_train = pd.read_sql_query(\"SELECT * FROM y_train\", conn)[\"isFraud\"]\n",
    "X_test = pd.read_sql_query(\"SELECT * FROM X_test\", conn)\n",
    "y_test = pd.read_sql_query(\"SELECT * FROM y_test\", conn)[\"isFraud\"]\n",
    "\n",
    "# Close the connection\n",
    "conn.close()"
   ]
  },
  {
   "cell_type": "code",
   "execution_count": 4,
   "id": "8bbbb86c",
   "metadata": {},
   "outputs": [],
   "source": [
    "from sklearn.model_selection import GridSearchCV\n",
    "from xgboost import XGBClassifier"
   ]
  },
  {
   "cell_type": "code",
   "execution_count": 5,
   "id": "ce077fbc",
   "metadata": {},
   "outputs": [],
   "source": [
    "#  Define the parameter grids for  XGBoost\n",
    "\n",
    "xgb_param_grid = {\n",
    "    'n_estimators': [100, 200],\n",
    "    'max_depth': [6, 10, 15],\n",
    "    'learning_rate': [0.01, 0.1],\n",
    "    'subsample': [0.5, 1],\n",
    "    'colsample_bytree': [0.5, 1]\n",
    "}"
   ]
  },
  {
   "cell_type": "code",
   "execution_count": null,
   "id": "e8daca62",
   "metadata": {},
   "outputs": [],
   "source": [
    "# Perform GridSearchCV for XGBoost\n",
    "xgb = XGBClassifier(random_state=42, use_label_encoder=False, eval_metric='logloss')\n",
    "xgb_grid = GridSearchCV(xgb, xgb_param_grid, cv=3, scoring='roc_auc', n_jobs=-1)\n",
    "xgb_grid.fit(X_train, y_train)"
   ]
  },
  {
   "cell_type": "code",
   "execution_count": null,
   "id": "46ac1056",
   "metadata": {},
   "outputs": [],
   "source": [
    "print(\"Best XGBoost hyperparameters: \", xgb_grid.best_params_)"
   ]
  },
  {
   "cell_type": "code",
   "execution_count": null,
   "id": "b100954f",
   "metadata": {},
   "outputs": [],
   "source": [
    "from sklearn.metrics import classification_report, roc_auc_score\n",
    "\n",
    "# XGBoost model with the best hyperparameters\n",
    "best_xgb = xgb_grid.best_estimator_\n",
    "xgb_predictions = best_xgb.predict(X_test)\n",
    "xgb_probs = best_xgb.predict_proba(X_test)[:, 1]"
   ]
  },
  {
   "cell_type": "code",
   "execution_count": null,
   "id": "ad037211",
   "metadata": {},
   "outputs": [],
   "source": [
    "print(\"XGBoost Classification Report:\")\n",
    "print(classification_report(y_test, xgb_predictions))\n",
    "print(\"ROC AUC Score: \", roc_auc_score(y_test, xgb_probs))"
   ]
  },
  {
   "cell_type": "code",
   "execution_count": null,
   "id": "112c5a1a",
   "metadata": {},
   "outputs": [],
   "source": []
  },
  {
   "cell_type": "code",
   "execution_count": null,
   "id": "4eb004dc",
   "metadata": {},
   "outputs": [],
   "source": []
  }
 ],
 "metadata": {
  "kernelspec": {
   "display_name": "Python [conda env:pythondata]",
   "language": "python",
   "name": "conda-env-pythondata-py"
  },
  "language_info": {
   "codemirror_mode": {
    "name": "ipython",
    "version": 3
   },
   "file_extension": ".py",
   "mimetype": "text/x-python",
   "name": "python",
   "nbconvert_exporter": "python",
   "pygments_lexer": "ipython3",
   "version": "3.7.7"
  }
 },
 "nbformat": 4,
 "nbformat_minor": 5
}
