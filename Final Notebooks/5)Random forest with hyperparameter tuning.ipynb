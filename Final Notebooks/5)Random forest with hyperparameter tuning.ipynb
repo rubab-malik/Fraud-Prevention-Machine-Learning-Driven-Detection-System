{
 "cells": [
  {
   "cell_type": "code",
   "execution_count": 1,
   "id": "bac7c516",
   "metadata": {},
   "outputs": [],
   "source": [
    "\n",
    "\n",
    "# Import dependencies\n",
    "from pathlib import Path\n",
    "import numpy as np\n",
    "import pandas as pd\n",
    "import matplotlib.pyplot as plt\n",
    "import seaborn as sns\n",
    "\n",
    "from sklearn.model_selection import train_test_split, GridSearchCV\n",
    "from sklearn.preprocessing import StandardScaler, OneHotEncoder\n",
    "from sklearn.impute import SimpleImputer\n",
    "from sklearn.compose import ColumnTransformer\n",
    "from sklearn.pipeline import Pipeline\n",
    "from sklearn.linear_model import LogisticRegression\n",
    "from sklearn.ensemble import RandomForestClassifier\n",
    "from sklearn.metrics import accuracy_score, precision_score, recall_score, f1_score, roc_auc_score, confusion_matrix\n",
    "from sklearn.preprocessing import LabelEncoder\n"
   ]
  },
  {
   "cell_type": "code",
   "execution_count": 2,
   "id": "8e0c5caf",
   "metadata": {},
   "outputs": [],
   "source": [
    "import sqlite3\n",
    "import pandas as pd\n",
    "\n",
    "# Create a connection to the database\n",
    "conn = sqlite3.connect(\"fraud_detection.db\")\n",
    "\n",
    "# Read the data from the database\n",
    "X_train = pd.read_sql_query(\"SELECT * FROM X_train\", conn)\n",
    "y_train = pd.read_sql_query(\"SELECT * FROM y_train\", conn)[\"isFraud\"]\n",
    "X_test = pd.read_sql_query(\"SELECT * FROM X_test\", conn)\n",
    "y_test = pd.read_sql_query(\"SELECT * FROM y_test\", conn)[\"isFraud\"]\n",
    "\n",
    "# Close the connection\n",
    "conn.close()"
   ]
  },
  {
   "cell_type": "code",
   "execution_count": 3,
   "id": "c964a1bf",
   "metadata": {},
   "outputs": [],
   "source": [
    "from sklearn.model_selection import GridSearchCV\n",
    "from sklearn.ensemble import RandomForestClassifier"
   ]
  },
  {
   "cell_type": "code",
   "execution_count": 4,
   "id": "a3fc57e5",
   "metadata": {},
   "outputs": [],
   "source": [
    "# Define the parameter grids for RandomForest and XGBoost\n",
    "rf_param_grid = {\n",
    "    'n_estimators': [100, 200],\n",
    "    'max_depth': [None, 10, 20],\n",
    "    'min_samples_split': [2, 5],\n",
    "    'min_samples_leaf': [1, 2]\n",
    "}"
   ]
  },
  {
   "cell_type": "code",
   "execution_count": null,
   "id": "ba451730",
   "metadata": {},
   "outputs": [],
   "source": [
    "# Perform GridSearchCV for RandomForest\n",
    "rf = RandomForestClassifier(random_state=42)\n",
    "rf_grid = GridSearchCV(rf, rf_param_grid, cv=3, scoring='roc_auc', n_jobs=-1)\n",
    "rf_grid.fit(X_train, y_train)"
   ]
  },
  {
   "cell_type": "code",
   "execution_count": null,
   "id": "42e2631c",
   "metadata": {},
   "outputs": [],
   "source": [
    "# Get the best hyperparameters\n",
    "print(\"Best RandomForest hyperparameters: \", rf_grid.best_params_)"
   ]
  },
  {
   "cell_type": "code",
   "execution_count": null,
   "id": "36dc3e42",
   "metadata": {},
   "outputs": [],
   "source": [
    "from sklearn.metrics import classification_report, roc_auc_score\n"
   ]
  },
  {
   "cell_type": "code",
   "execution_count": null,
   "id": "b3dd9793",
   "metadata": {},
   "outputs": [],
   "source": [
    "# RandomForest model with the best hyperparameters\n",
    "best_rf = rf_grid.best_estimator_\n",
    "rf_predictions = best_rf.predict(X_test)\n",
    "rf_probs = best_rf.predict_proba(X_test)[:, 1]"
   ]
  },
  {
   "cell_type": "code",
   "execution_count": null,
   "id": "4640389e",
   "metadata": {},
   "outputs": [],
   "source": [
    "# Print classification reports and ROC AUC scores\n",
    "print(\"RandomForest Classification Report:\")\n",
    "print(classification_report(y_test, rf_predictions))\n",
    "print(\"ROC AUC Score: \", roc_auc_score(y_test, rf_probs))"
   ]
  },
  {
   "cell_type": "code",
   "execution_count": null,
   "id": "c6083a52",
   "metadata": {},
   "outputs": [],
   "source": []
  }
 ],
 "metadata": {
  "kernelspec": {
   "display_name": "Python [conda env:pythondata]",
   "language": "python",
   "name": "conda-env-pythondata-py"
  },
  "language_info": {
   "codemirror_mode": {
    "name": "ipython",
    "version": 3
   },
   "file_extension": ".py",
   "mimetype": "text/x-python",
   "name": "python",
   "nbconvert_exporter": "python",
   "pygments_lexer": "ipython3",
   "version": "3.7.7"
  }
 },
 "nbformat": 4,
 "nbformat_minor": 5
}
