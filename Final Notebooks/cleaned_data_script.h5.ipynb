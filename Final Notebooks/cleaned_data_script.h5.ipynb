{
 "cells": [
  {
   "cell_type": "code",
   "execution_count": 5,
   "id": "80d9537c",
   "metadata": {},
   "outputs": [
    {
     "name": "stdout",
     "output_type": "stream",
     "text": [
      "Collecting tables\n",
      "  Downloading tables-3.7.0-cp37-cp37m-win_amd64.whl (6.8 MB)\n",
      "Requirement already satisfied: packaging in c:\\users\\khans\\anaconda3\\envs\\pythondata\\lib\\site-packages (from tables) (21.3)\n",
      "Collecting numexpr>=2.6.2\n",
      "  Downloading numexpr-2.8.4-cp37-cp37m-win_amd64.whl (92 kB)\n",
      "Requirement already satisfied: numpy>=1.19.0 in c:\\users\\khans\\anaconda3\\envs\\pythondata\\lib\\site-packages (from tables) (1.21.6)\n",
      "Requirement already satisfied: pyparsing!=3.0.5,>=2.0.2 in c:\\users\\khans\\anaconda3\\envs\\pythondata\\lib\\site-packages (from packaging->tables) (2.4.7)\n",
      "Installing collected packages: numexpr, tables\n",
      "Successfully installed numexpr-2.8.4 tables-3.7.0\n",
      "Note: you may need to restart the kernel to use updated packages.\n"
     ]
    }
   ],
   "source": [
    "pip install tables\n"
   ]
  },
  {
   "cell_type": "markdown",
   "id": "4db2a0f2",
   "metadata": {},
   "source": [
    "# Save data to H5 file"
   ]
  },
  {
   "cell_type": "code",
   "execution_count": 1,
   "id": "95061b66",
   "metadata": {},
   "outputs": [],
   "source": [
    "import pandas as pd"
   ]
  },
  {
   "cell_type": "code",
   "execution_count": 2,
   "id": "c0f80d61",
   "metadata": {},
   "outputs": [],
   "source": [
    "# Load cleaned data\n",
    "clean_train_data = pd.read_csv(\"Resources/clean_train_data.csv\")\n",
    "clean_test_data = pd.read_csv(\"Resources/clean_test_data.csv\")\n"
   ]
  },
  {
   "cell_type": "code",
   "execution_count": 3,
   "id": "93394ddf",
   "metadata": {},
   "outputs": [
    {
     "name": "stderr",
     "output_type": "stream",
     "text": [
      "C:\\Users\\khans\\anaconda3\\envs\\pythonData\\lib\\site-packages\\pandas\\core\\generic.py:2505: PerformanceWarning: \n",
      "your performance may suffer as PyTables will pickle object types that it cannot\n",
      "map directly to c-types [inferred_type->mixed,key->block2_values] [items->Index(['ProductCD', 'card4', 'card6', 'P_emaildomain', 'M1', 'M2', 'M3', 'M4',\n",
      "       'M6'],\n",
      "      dtype='object')]\n",
      "\n",
      "  encoding=encoding,\n",
      "C:\\Users\\khans\\anaconda3\\envs\\pythonData\\lib\\site-packages\\pandas\\core\\generic.py:2505: PerformanceWarning: \n",
      "your performance may suffer as PyTables will pickle object types that it cannot\n",
      "map directly to c-types [inferred_type->mixed,key->block2_values] [items->Index(['ProductCD', 'card4', 'card6', 'P_emaildomain', 'M1', 'M2', 'M3', 'M4',\n",
      "       'M6', 'M7', 'M8', 'M9'],\n",
      "      dtype='object')]\n",
      "\n",
      "  encoding=encoding,\n"
     ]
    }
   ],
   "source": [
    "# Save cleaned data to a new h5 file\n",
    "clean_train_data.to_hdf(\"clean_data.h5\", key=\"train\", mode=\"w\")\n",
    "clean_test_data.to_hdf(\"clean_data.h5\", key=\"test\", mode=\"a\")"
   ]
  },
  {
   "cell_type": "code",
   "execution_count": 4,
   "id": "09d7e8e6",
   "metadata": {},
   "outputs": [
    {
     "name": "stdout",
     "output_type": "stream",
     "text": [
      "   TransactionID  isFraud  TransactionDT  TransactionAmt ProductCD  card1  \\\n",
      "0        2987000        0          86400            68.5         W  13926   \n",
      "1        2987001        0          86401            29.0         W   2755   \n",
      "2        2987002        0          86469            59.0         W   4663   \n",
      "3        2987003        0          86499            50.0         W  18132   \n",
      "4        2987004        0          86506            50.0         H   4497   \n",
      "\n",
      "        card2  card3       card4  card5  ...   V312  V313  V314 V315  V316  \\\n",
      "0  362.555488  150.0    discover  142.0  ...    0.0   0.0   0.0  0.0   0.0   \n",
      "1  404.000000  150.0  mastercard  102.0  ...    0.0   0.0   0.0  0.0   0.0   \n",
      "2  490.000000  150.0        visa  166.0  ...    0.0   0.0   0.0  0.0   0.0   \n",
      "3  567.000000  150.0  mastercard  117.0  ...  135.0   0.0   0.0  0.0  50.0   \n",
      "4  514.000000  150.0  mastercard  102.0  ...    0.0   0.0   0.0  0.0   0.0   \n",
      "\n",
      "     V317   V318  V319  V320  V321  \n",
      "0   117.0    0.0   0.0   0.0   0.0  \n",
      "1     0.0    0.0   0.0   0.0   0.0  \n",
      "2     0.0    0.0   0.0   0.0   0.0  \n",
      "3  1404.0  790.0   0.0   0.0   0.0  \n",
      "4     0.0    0.0   0.0   0.0   0.0  \n",
      "\n",
      "[5 rows x 220 columns]\n"
     ]
    }
   ],
   "source": [
    "# Load the training data\n",
    "train_data = pd.read_hdf(\"clean_data.h5\", key=\"train\")\n",
    "print(train_data.head())\n",
    "\n"
   ]
  },
  {
   "cell_type": "code",
   "execution_count": 5,
   "id": "6cb52810",
   "metadata": {},
   "outputs": [
    {
     "name": "stdout",
     "output_type": "stream",
     "text": [
      "   TransactionID  TransactionDT  TransactionAmt ProductCD  card1  card2  \\\n",
      "0        3663549       18403224           31.95         W  10409  111.0   \n",
      "1        3663550       18403263           49.00         W   4272  111.0   \n",
      "2        3663551       18403310          171.00         W   4476  574.0   \n",
      "3        3663552       18403310          284.95         W  10989  360.0   \n",
      "4        3663553       18403317           67.95         W  18018  452.0   \n",
      "\n",
      "   card3       card4  card5  card6  ...       V312        V313        V314  \\\n",
      "0  150.0        visa  226.0  debit  ...   0.000000    0.000000    0.000000   \n",
      "1  150.0        visa  226.0  debit  ...  77.000000    0.000000    0.000000   \n",
      "2  150.0        visa  226.0  debit  ...   0.000000    0.000000    0.000000   \n",
      "3  150.0        visa  166.0  debit  ...   0.000000  282.540009  282.540009   \n",
      "4  150.0  mastercard  117.0  debit  ...  67.949997   67.949997  183.850006   \n",
      "\n",
      "         V315  V316  V317  V318  V319   V320  V321  \n",
      "0    0.000000   0.0   0.0   0.0   0.0    0.0   0.0  \n",
      "1    0.000000   0.0   0.0   0.0   0.0    0.0   0.0  \n",
      "2    0.000000   0.0   0.0   0.0   0.0  263.0   0.0  \n",
      "3  282.540009   0.0   0.0   0.0   0.0    0.0   0.0  \n",
      "4   67.949997   0.0   0.0   0.0   0.0    0.0   0.0  \n",
      "\n",
      "[5 rows x 223 columns]\n"
     ]
    }
   ],
   "source": [
    "# Load the test data\n",
    "test_data = pd.read_hdf(\"clean_data.h5\", key=\"test\")\n",
    "print(test_data.head())"
   ]
  },
  {
   "cell_type": "code",
   "execution_count": null,
   "id": "c58a4373",
   "metadata": {},
   "outputs": [],
   "source": []
  }
 ],
 "metadata": {
  "kernelspec": {
   "display_name": "Python [conda env:pythonData] *",
   "language": "python",
   "name": "conda-env-pythonData-py"
  },
  "language_info": {
   "codemirror_mode": {
    "name": "ipython",
    "version": 3
   },
   "file_extension": ".py",
   "mimetype": "text/x-python",
   "name": "python",
   "nbconvert_exporter": "python",
   "pygments_lexer": "ipython3",
   "version": "3.7.7"
  }
 },
 "nbformat": 4,
 "nbformat_minor": 5
}
