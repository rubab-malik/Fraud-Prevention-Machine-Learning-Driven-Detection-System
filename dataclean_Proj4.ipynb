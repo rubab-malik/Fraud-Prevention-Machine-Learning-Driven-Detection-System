{
 "cells": [
  {
   "cell_type": "markdown",
   "id": "4b7072c8",
   "metadata": {},
   "source": [
    "# Fraud Detection System for Online Transactions\n",
    "## Project 4: Machine Learning Integration"
   ]
  },
  {
   "cell_type": "code",
   "execution_count": 1,
   "id": "4fb9333b",
   "metadata": {},
   "outputs": [],
   "source": [
    "# Import dependencies\n",
    "\n",
    "import numpy as np\n",
    "import pandas as pd\n",
    "from pathlib import Path\n",
    "from sklearn.model_selection import train_test_split\n",
    "\n",
    "from sklearn.preprocessing import StandardScaler, MinMaxScaler\n",
    "from sklearn.linear_model import LogisticRegression\n",
    "from sklearn.ensemble import RandomForestClassifier\n",
    "\n",
    "from sklearn.metrics import confusion_matrix, classification_report"
   ]
  },
  {
   "cell_type": "code",
   "execution_count": 2,
   "id": "3630b1cb",
   "metadata": {},
   "outputs": [],
   "source": [
    "# Import the data\n",
    "\n",
    "file_path1 = Path(\"Resources/test_identity.csv\")\n",
    "file_path2 = Path(\"Resources/test_transaction.csv\")\n",
    "file_path3 = Path(\"Resources/train_identity.csv\")\n",
    "file_path4 = Path(\"Resources/train_transaction.csv\")"
   ]
  },
  {
   "cell_type": "code",
   "execution_count": 3,
   "id": "6e792bc4",
   "metadata": {},
   "outputs": [],
   "source": [
    "# Read the data\n",
    "\n",
    "test_identity = pd.read_csv(file_path1)\n",
    "test_transaction = pd.read_csv(file_path2)\n",
    "train_identity = pd.read_csv(file_path3)\n",
    "train_transaction = pd.read_csv(file_path4)"
   ]
  },
  {
   "cell_type": "markdown",
   "id": "b3203f95",
   "metadata": {},
   "source": [
    "## Examine the characteristics of each dataset"
   ]
  },
  {
   "cell_type": "markdown",
   "id": "ab3f8d13",
   "metadata": {},
   "source": [
    "### Check data types"
   ]
  },
  {
   "cell_type": "code",
   "execution_count": 5,
   "id": "7059d0b7",
   "metadata": {},
   "outputs": [
    {
     "data": {
      "text/plain": [
       "TransactionID      int64\n",
       "id-01            float64\n",
       "id-02            float64\n",
       "id-03            float64\n",
       "id-04            float64\n",
       "id-05            float64\n",
       "id-06            float64\n",
       "id-07            float64\n",
       "id-08            float64\n",
       "id-09            float64\n",
       "id-10            float64\n",
       "id-11            float64\n",
       "id-12             object\n",
       "id-13            float64\n",
       "id-14            float64\n",
       "id-15             object\n",
       "id-16             object\n",
       "id-17            float64\n",
       "id-18            float64\n",
       "id-19            float64\n",
       "id-20            float64\n",
       "id-21            float64\n",
       "id-22            float64\n",
       "id-23             object\n",
       "id-24            float64\n",
       "id-25            float64\n",
       "id-26            float64\n",
       "id-27             object\n",
       "id-28             object\n",
       "id-29             object\n",
       "id-30             object\n",
       "id-31             object\n",
       "id-32            float64\n",
       "id-33             object\n",
       "id-34             object\n",
       "id-35             object\n",
       "id-36             object\n",
       "id-37             object\n",
       "id-38             object\n",
       "DeviceType        object\n",
       "DeviceInfo        object\n",
       "dtype: object"
      ]
     },
     "execution_count": 5,
     "metadata": {},
     "output_type": "execute_result"
    }
   ],
   "source": [
    "test_identity.dtypes "
   ]
  },
  {
   "cell_type": "code",
   "execution_count": 6,
   "id": "0f4a49f9",
   "metadata": {},
   "outputs": [
    {
     "data": {
      "text/plain": [
       "TransactionID       int64\n",
       "TransactionDT       int64\n",
       "TransactionAmt    float64\n",
       "ProductCD          object\n",
       "card1               int64\n",
       "                   ...   \n",
       "V335              float64\n",
       "V336              float64\n",
       "V337              float64\n",
       "V338              float64\n",
       "V339              float64\n",
       "Length: 393, dtype: object"
      ]
     },
     "execution_count": 6,
     "metadata": {},
     "output_type": "execute_result"
    }
   ],
   "source": [
    "test_transaction.dtypes"
   ]
  },
  {
   "cell_type": "code",
   "execution_count": 7,
   "id": "8c35b227",
   "metadata": {},
   "outputs": [
    {
     "data": {
      "text/plain": [
       "TransactionID      int64\n",
       "id_01            float64\n",
       "id_02            float64\n",
       "id_03            float64\n",
       "id_04            float64\n",
       "id_05            float64\n",
       "id_06            float64\n",
       "id_07            float64\n",
       "id_08            float64\n",
       "id_09            float64\n",
       "id_10            float64\n",
       "id_11            float64\n",
       "id_12             object\n",
       "id_13            float64\n",
       "id_14            float64\n",
       "id_15             object\n",
       "id_16             object\n",
       "id_17            float64\n",
       "id_18            float64\n",
       "id_19            float64\n",
       "id_20            float64\n",
       "id_21            float64\n",
       "id_22            float64\n",
       "id_23             object\n",
       "id_24            float64\n",
       "id_25            float64\n",
       "id_26            float64\n",
       "id_27             object\n",
       "id_28             object\n",
       "id_29             object\n",
       "id_30             object\n",
       "id_31             object\n",
       "id_32            float64\n",
       "id_33             object\n",
       "id_34             object\n",
       "id_35             object\n",
       "id_36             object\n",
       "id_37             object\n",
       "id_38             object\n",
       "DeviceType        object\n",
       "DeviceInfo        object\n",
       "dtype: object"
      ]
     },
     "execution_count": 7,
     "metadata": {},
     "output_type": "execute_result"
    }
   ],
   "source": [
    "train_identity.dtypes"
   ]
  },
  {
   "cell_type": "code",
   "execution_count": 8,
   "id": "ad8168bc",
   "metadata": {},
   "outputs": [
    {
     "data": {
      "text/plain": [
       "TransactionID       int64\n",
       "isFraud             int64\n",
       "TransactionDT       int64\n",
       "TransactionAmt    float64\n",
       "ProductCD          object\n",
       "                   ...   \n",
       "V335              float64\n",
       "V336              float64\n",
       "V337              float64\n",
       "V338              float64\n",
       "V339              float64\n",
       "Length: 394, dtype: object"
      ]
     },
     "execution_count": 8,
     "metadata": {},
     "output_type": "execute_result"
    }
   ],
   "source": [
    "train_transaction.dtypes"
   ]
  },
  {
   "cell_type": "markdown",
   "id": "25c38182",
   "metadata": {},
   "source": [
    "### Check for missing values"
   ]
  },
  {
   "cell_type": "code",
   "execution_count": 9,
   "id": "7c301c91",
   "metadata": {},
   "outputs": [
    {
     "name": "stdout",
     "output_type": "stream",
     "text": [
      "TransactionID    141907\n",
      "id-01            141907\n",
      "id-02            136976\n",
      "id-03             66481\n",
      "id-04             66481\n",
      "id-05            134750\n",
      "id-06            134750\n",
      "id-07              5059\n",
      "id-08              5059\n",
      "id-09             74338\n",
      "id-10             74338\n",
      "id-11            136778\n",
      "id-12            141907\n",
      "id-13            130286\n",
      "id-14             71357\n",
      "id-15            136977\n",
      "id-16            125747\n",
      "id-17            135966\n",
      "id-18             50875\n",
      "id-19            135906\n",
      "id-20            135633\n",
      "id-21              5059\n",
      "id-22              5062\n",
      "id-23              5062\n",
      "id-24              4740\n",
      "id-25              5039\n",
      "id-26              5047\n",
      "id-27              5062\n",
      "id-28            136778\n",
      "id-29            136778\n",
      "id-30             70659\n",
      "id-31            136625\n",
      "id-32             70671\n",
      "id-33             70671\n",
      "id-34             72175\n",
      "id-35            136977\n",
      "id-36            136977\n",
      "id-37            136977\n",
      "id-38            136977\n",
      "DeviceType       136931\n",
      "DeviceInfo       115057\n",
      "dtype: int64\n",
      "True\n"
     ]
    }
   ],
   "source": [
    "## for test_identity\n",
    "print(test_identity.count())\n",
    "print(test_identity.isnull().values.any())"
   ]
  },
  {
   "cell_type": "code",
   "execution_count": 10,
   "id": "3bbaecf3",
   "metadata": {},
   "outputs": [
    {
     "name": "stdout",
     "output_type": "stream",
     "text": [
      "TransactionID     506691\n",
      "TransactionDT     506691\n",
      "TransactionAmt    506691\n",
      "ProductCD         506691\n",
      "card1             506691\n",
      "                   ...  \n",
      "V335               76431\n",
      "V336               76431\n",
      "V337               76431\n",
      "V338               76431\n",
      "V339               76431\n",
      "Length: 393, dtype: int64\n",
      "True\n"
     ]
    }
   ],
   "source": [
    "## for test_transaction\n",
    "print(test_transaction.count())\n",
    "print(test_transaction.isnull().values.any())"
   ]
  },
  {
   "cell_type": "code",
   "execution_count": 11,
   "id": "2f450cd5",
   "metadata": {},
   "outputs": [
    {
     "name": "stdout",
     "output_type": "stream",
     "text": [
      "TransactionID    144233\n",
      "id_01            144233\n",
      "id_02            140872\n",
      "id_03             66324\n",
      "id_04             66324\n",
      "id_05            136865\n",
      "id_06            136865\n",
      "id_07              5155\n",
      "id_08              5155\n",
      "id_09             74926\n",
      "id_10             74926\n",
      "id_11            140978\n",
      "id_12            144233\n",
      "id_13            127320\n",
      "id_14             80044\n",
      "id_15            140985\n",
      "id_16            129340\n",
      "id_17            139369\n",
      "id_18             45113\n",
      "id_19            139318\n",
      "id_20            139261\n",
      "id_21              5159\n",
      "id_22              5169\n",
      "id_23              5169\n",
      "id_24              4747\n",
      "id_25              5132\n",
      "id_26              5163\n",
      "id_27              5169\n",
      "id_28            140978\n",
      "id_29            140978\n",
      "id_30             77565\n",
      "id_31            140282\n",
      "id_32             77586\n",
      "id_33             73289\n",
      "id_34             77805\n",
      "id_35            140985\n",
      "id_36            140985\n",
      "id_37            140985\n",
      "id_38            140985\n",
      "DeviceType       140810\n",
      "DeviceInfo       118666\n",
      "dtype: int64\n",
      "True\n"
     ]
    }
   ],
   "source": [
    "## for train_identity\n",
    "print(train_identity.count())\n",
    "print(train_identity.isnull().values.any())"
   ]
  },
  {
   "cell_type": "code",
   "execution_count": 12,
   "id": "ae10daa4",
   "metadata": {},
   "outputs": [
    {
     "name": "stdout",
     "output_type": "stream",
     "text": [
      "TransactionID     590540\n",
      "isFraud           590540\n",
      "TransactionDT     590540\n",
      "TransactionAmt    590540\n",
      "ProductCD         590540\n",
      "                   ...  \n",
      "V335               82351\n",
      "V336               82351\n",
      "V337               82351\n",
      "V338               82351\n",
      "V339               82351\n",
      "Length: 394, dtype: int64\n",
      "True\n"
     ]
    }
   ],
   "source": [
    "## for train_transaction\n",
    "print(train_transaction.count())\n",
    "print(train_transaction.isnull().values.any())"
   ]
  },
  {
   "cell_type": "markdown",
   "id": "cf2417a7",
   "metadata": {},
   "source": [
    "Any missing data? yes"
   ]
  },
  {
   "cell_type": "markdown",
   "id": "11b96cdb",
   "metadata": {},
   "source": [
    "### Check for duplicate entries"
   ]
  },
  {
   "cell_type": "code",
   "execution_count": 13,
   "id": "a4954d00",
   "metadata": {},
   "outputs": [
    {
     "data": {
      "text/plain": [
       "0"
      ]
     },
     "execution_count": 13,
     "metadata": {},
     "output_type": "execute_result"
    }
   ],
   "source": [
    "test_identity.duplicated().sum()"
   ]
  },
  {
   "cell_type": "code",
   "execution_count": 14,
   "id": "00f554cb",
   "metadata": {},
   "outputs": [
    {
     "data": {
      "text/plain": [
       "0"
      ]
     },
     "execution_count": 14,
     "metadata": {},
     "output_type": "execute_result"
    }
   ],
   "source": [
    "test_transaction.duplicated().sum()"
   ]
  },
  {
   "cell_type": "code",
   "execution_count": 15,
   "id": "2656296d",
   "metadata": {},
   "outputs": [
    {
     "data": {
      "text/plain": [
       "0"
      ]
     },
     "execution_count": 15,
     "metadata": {},
     "output_type": "execute_result"
    }
   ],
   "source": [
    "train_identity.duplicated().sum()"
   ]
  },
  {
   "cell_type": "code",
   "execution_count": 16,
   "id": "e5530f2e",
   "metadata": {},
   "outputs": [
    {
     "data": {
      "text/plain": [
       "0"
      ]
     },
     "execution_count": 16,
     "metadata": {},
     "output_type": "execute_result"
    }
   ],
   "source": [
    "train_transaction.duplicated().sum()"
   ]
  },
  {
   "cell_type": "markdown",
   "id": "7b0fe990",
   "metadata": {},
   "source": [
    "### Handle categorical data\n",
    "Handle categorical data by converting them into numerical values"
   ]
  },
  {
   "cell_type": "code",
   "execution_count": null,
   "id": "90a9d809",
   "metadata": {},
   "outputs": [],
   "source": [
    "#one-hot encoding\n",
    "## pd.get_dummies(X['<categorical variable>'])"
   ]
  },
  {
   "cell_type": "markdown",
   "id": "a3f94fc6",
   "metadata": {},
   "source": [
    "### Standardise data\n",
    "\n",
    "Fit pre-processor to training data"
   ]
  },
  {
   "cell_type": "code",
   "execution_count": null,
   "id": "e8891244",
   "metadata": {},
   "outputs": [],
   "source": [
    "# scaler = StandardScaler()\n",
    "# <scaled dataset> = scaler.fit_transform(<df>)"
   ]
  },
  {
   "cell_type": "markdown",
   "id": "7bd865ba",
   "metadata": {},
   "source": [
    "### Identify and remove outliers"
   ]
  },
  {
   "cell_type": "code",
   "execution_count": null,
   "id": "9b658e7f",
   "metadata": {},
   "outputs": [],
   "source": []
  },
  {
   "cell_type": "markdown",
   "id": "09603ebb",
   "metadata": {},
   "source": [
    "### Perform feature engineering/dimension reduction"
   ]
  },
  {
   "cell_type": "code",
   "execution_count": null,
   "id": "59ab0c5c",
   "metadata": {},
   "outputs": [],
   "source": [
    "# currently lots of variables, need to conduct feature engineering to remove"
   ]
  }
 ],
 "metadata": {
  "kernelspec": {
   "display_name": "mlenv",
   "language": "python",
   "name": "mlenv"
  },
  "language_info": {
   "codemirror_mode": {
    "name": "ipython",
    "version": 3
   },
   "file_extension": ".py",
   "mimetype": "text/x-python",
   "name": "python",
   "nbconvert_exporter": "python",
   "pygments_lexer": "ipython3",
   "version": "3.7.13"
  }
 },
 "nbformat": 4,
 "nbformat_minor": 5
}
