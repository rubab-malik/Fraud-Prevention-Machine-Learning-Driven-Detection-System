{
 "cells": [
  {
   "cell_type": "code",
   "execution_count": 1,
   "id": "33ca888b",
   "metadata": {},
   "outputs": [],
   "source": [
    "\n",
    "\n",
    "# Import dependencies\n",
    "from pathlib import Path\n",
    "import numpy as np\n",
    "import pandas as pd\n",
    "import matplotlib.pyplot as plt\n",
    "import seaborn as sns\n",
    "\n",
    "from sklearn.model_selection import train_test_split, GridSearchCV\n",
    "from sklearn.preprocessing import StandardScaler, OneHotEncoder\n",
    "from sklearn.impute import SimpleImputer\n",
    "from sklearn.compose import ColumnTransformer\n",
    "from sklearn.pipeline import Pipeline\n",
    "from sklearn.linear_model import LogisticRegression\n",
    "from sklearn.ensemble import RandomForestClassifier\n",
    "from sklearn.metrics import accuracy_score, precision_score, recall_score, f1_score, roc_auc_score, confusion_matrix\n",
    "from sklearn.preprocessing import LabelEncoder\n"
   ]
  },
  {
   "cell_type": "code",
   "execution_count": 2,
   "id": "7acf4bf2",
   "metadata": {},
   "outputs": [],
   "source": [
    "# Load cleaned data\n",
    "clean_train_data = pd.read_csv(\"Resources/clean_train_data.csv\")\n",
    "# clean_test_data = pd.read_csv(\"Resources/clean_test_data.csv\")"
   ]
  },
  {
   "cell_type": "code",
   "execution_count": 3,
   "id": "4b30aba6",
   "metadata": {},
   "outputs": [],
   "source": [
    "# split the train_data into a smaller subset (optional, if the dataset is too large for hyperparameter tuning):\n",
    "\n",
    "train_data_sample = clean_train_data.sample(frac=0.1, random_state=42)"
   ]
  },
  {
   "cell_type": "code",
   "execution_count": 4,
   "id": "194ef67a",
   "metadata": {},
   "outputs": [],
   "source": [
    "from sklearn.model_selection import train_test_split\n",
    "\n",
    "X = clean_train_data.drop(\"isFraud\", axis=1)\n",
    "y = clean_train_data[\"isFraud\"]"
   ]
  },
  {
   "cell_type": "code",
   "execution_count": 5,
   "id": "d70c2ca3",
   "metadata": {},
   "outputs": [],
   "source": [
    "X_train, X_test, y_train, y_test = train_test_split(X, y, test_size=0.2, random_state=42)"
   ]
  },
  {
   "cell_type": "code",
   "execution_count": 6,
   "id": "389b28a5",
   "metadata": {},
   "outputs": [],
   "source": [
    "from sklearn.preprocessing import LabelEncoder\n",
    "\n",
    "categorical_features = X_train.select_dtypes(include=['object']).columns\n",
    "\n",
    "for feature in categorical_features:\n",
    "    le = LabelEncoder()\n",
    "    X_train[feature] = le.fit_transform(X_train[feature].astype(str))\n",
    "    X_test[feature] = le.transform(X_test[feature].astype(str))"
   ]
  },
  {
   "cell_type": "code",
   "execution_count": 7,
   "id": "5dba950e",
   "metadata": {},
   "outputs": [],
   "source": [
    "#Standardize the data:\n",
    "from sklearn.preprocessing import StandardScaler\n",
    "\n",
    "scaler = StandardScaler()\n",
    "X_train = scaler.fit_transform(X_train)\n",
    "X_test = scaler.transform(X_test)"
   ]
  },
  {
   "cell_type": "code",
   "execution_count": null,
   "id": "9da962c0",
   "metadata": {},
   "outputs": [],
   "source": [
    "#Save the processed data to an SQL database:\n",
    "import sqlite3\n",
    "\n",
    "# Create a connection to the database\n",
    "conn = sqlite3.connect(\"fraud_detection.db\")\n",
    "\n",
    "# Save the processed data to the database\n",
    "X_train_df = pd.DataFrame(X_train, columns=X.columns)\n",
    "y_train_df = pd.DataFrame(y_train, columns=[\"isFraud\"])\n",
    "X_test_df = pd.DataFrame(X_test, columns=X.columns)\n",
    "y_test_df = pd.DataFrame(y_test, columns=[\"isFraud\"])\n",
    "\n",
    "X_train_df.to_sql(\"X_train\", conn, if_exists=\"replace\", index=False)\n",
    "y_train_df.to_sql(\"y_train\", conn, if_exists=\"replace\", index=False)\n",
    "X_test_df.to_sql(\"X_test\", conn, if_exists=\"replace\", index=False)\n",
    "y_test_df.to_sql(\"y_test\", conn, if_exists=\"replace\", index=False)\n",
    "\n",
    "# Close the connection\n",
    "conn.close()"
   ]
  },
  {
   "cell_type": "code",
   "execution_count": null,
   "id": "33d274f0",
   "metadata": {},
   "outputs": [],
   "source": [
    "# Train and evaluate the RandomForest and XGBoost models:\n",
    "from sklearn.ensemble import RandomForestClassifier\n",
    "from xgboost import XGBClassifier\n",
    "from sklearn.metrics import classification_report, accuracy_score, roc_auc_score\n",
    "\n",
    "# Train the RandomForest model\n",
    "rf_model = RandomForestClassifier(n_estimators=100, random_state=42)\n",
    "rf_model.fit(X_train, y_train)"
   ]
  },
  {
   "cell_type": "code",
   "execution_count": null,
   "id": "98d4cdbd",
   "metadata": {},
   "outputs": [],
   "source": [
    "# Evaluate the models\n",
    "y_pred_rf = rf_model.predict(X_test)"
   ]
  },
  {
   "cell_type": "code",
   "execution_count": null,
   "id": "e70a1878",
   "metadata": {},
   "outputs": [],
   "source": [
    "print(\"Random Forest:\")\n",
    "print(classification_report(y_test, y_pred_rf))\n",
    "print(\"Accuracy:\", accuracy_score(y_test, y_pred_rf))\n",
    "print(\"ROC AUC:\", roc_auc_score(y_test, y_pred_rf))"
   ]
  },
  {
   "cell_type": "code",
   "execution_count": null,
   "id": "2de5d34a",
   "metadata": {},
   "outputs": [],
   "source": []
  }
 ],
 "metadata": {
  "kernelspec": {
   "display_name": "Python [conda env:pythondata]",
   "language": "python",
   "name": "conda-env-pythondata-py"
  },
  "language_info": {
   "codemirror_mode": {
    "name": "ipython",
    "version": 3
   },
   "file_extension": ".py",
   "mimetype": "text/x-python",
   "name": "python",
   "nbconvert_exporter": "python",
   "pygments_lexer": "ipython3",
   "version": "3.7.7"
  }
 },
 "nbformat": 4,
 "nbformat_minor": 5
}
